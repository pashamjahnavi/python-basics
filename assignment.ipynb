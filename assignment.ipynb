{
  "nbformat": 4,
  "nbformat_minor": 0,
  "metadata": {
    "colab": {
      "provenance": [],
      "authorship_tag": "ABX9TyN5m5kTxHdeNAYhaWe+jTEU",
      "include_colab_link": true
    },
    "kernelspec": {
      "name": "python3",
      "display_name": "Python 3"
    },
    "language_info": {
      "name": "python"
    }
  },
  "cells": [
    {
      "cell_type": "markdown",
      "metadata": {
        "id": "view-in-github",
        "colab_type": "text"
      },
      "source": [
        "<a href=\"https://colab.research.google.com/github/pashamjahnavi/python-basics/blob/main/assignment.ipynb\" target=\"_parent\"><img src=\"https://colab.research.google.com/assets/colab-badge.svg\" alt=\"Open In Colab\"/></a>"
      ]
    },
    {
      "cell_type": "code",
      "execution_count": 1,
      "metadata": {
        "colab": {
          "base_uri": "https://localhost:8080/"
        },
        "id": "vILdsDjsFghY",
        "outputId": "eb03b74f-5663-43b9-b8f5-a2537013761d"
      },
      "outputs": [
        {
          "output_type": "stream",
          "name": "stdout",
          "text": [
            "Enter a positive integer: 56\n",
            "The sum of all even numbers between 1 and 56 is: 812\n"
          ]
        }
      ],
      "source": [
        "# Function to calculate the sum of even numbers\n",
        "def sum_of_even_numbers(n):\n",
        "    return sum(num for num in range(1, n + 1) if num % 2 == 0)\n",
        "n = int(input(\"Enter a positive integer: \"))\n",
        "\n",
        "if n <= 0:\n",
        "    print(\"Please enter a positive integer.\")\n",
        "else:\n",
        "    result = sum_of_even_numbers(n)\n",
        "    print(f\"The sum of all even numbers between 1 and {n} is: {result}\")\n"
      ]
    }
  ]
}