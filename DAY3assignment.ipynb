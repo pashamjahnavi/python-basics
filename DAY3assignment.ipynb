{
  "nbformat": 4,
  "nbformat_minor": 0,
  "metadata": {
    "colab": {
      "provenance": [],
      "authorship_tag": "ABX9TyOxDKeb57m0uwcBLIKQc860",
      "include_colab_link": true
    },
    "kernelspec": {
      "name": "python3",
      "display_name": "Python 3"
    },
    "language_info": {
      "name": "python"
    }
  },
  "cells": [
    {
      "cell_type": "markdown",
      "metadata": {
        "id": "view-in-github",
        "colab_type": "text"
      },
      "source": [
        "<a href=\"https://colab.research.google.com/github/pashamjahnavi/python-basics/blob/main/DAY3assignment.ipynb\" target=\"_parent\"><img src=\"https://colab.research.google.com/assets/colab-badge.svg\" alt=\"Open In Colab\"/></a>"
      ]
    },
    {
      "cell_type": "code",
      "source": [
        "# Function to calculate the grade\n",
        "def calculate_grade():\n",
        "    # Taking input for marks in three subjects\n",
        "    subject1 = float(input(\"Enter marks for subject 1: \"))\n",
        "    subject2 = float(input(\"Enter marks for subject 2: \"))\n",
        "    subject3 = float(input(\"Enter marks for subject 3: \"))\n",
        "\n",
        "    # Calculating the average\n",
        "    average = (subject1 + subject2 + subject3) / 3\n",
        "\n",
        "    # Determining the grade based on the average\n",
        "    if average >= 90:\n",
        "        print(\"Grade: A\")\n",
        "    elif 80 <= average < 90:\n",
        "        print(\"Grade: B\")\n",
        "    elif 70 <= average < 80:\n",
        "        print(\"Grade: C\")\n",
        "    else:\n",
        "        print(\"Grade: Fail\")\n",
        "calculate_grade()\n"
      ],
      "metadata": {
        "colab": {
          "base_uri": "https://localhost:8080/"
        },
        "id": "iVFdklSaJPEq",
        "outputId": "36c11337-7190-4664-83ff-1e3019af4724"
      },
      "execution_count": 6,
      "outputs": [
        {
          "output_type": "stream",
          "name": "stdout",
          "text": [
            "Enter marks for subject 1: 98\n",
            "Enter marks for subject 2: 65\n",
            "Enter marks for subject 3: 35\n",
            "Grade: Fail\n"
          ]
        }
      ]
    }
  ]
}