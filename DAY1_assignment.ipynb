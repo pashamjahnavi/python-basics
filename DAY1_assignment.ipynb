{
  "nbformat": 4,
  "nbformat_minor": 0,
  "metadata": {
    "colab": {
      "provenance": [],
      "authorship_tag": "ABX9TyPNRKU3GnluqpbWZgy1agZe",
      "include_colab_link": true
    },
    "kernelspec": {
      "name": "python3",
      "display_name": "Python 3"
    },
    "language_info": {
      "name": "python"
    }
  },
  "cells": [
    {
      "cell_type": "markdown",
      "metadata": {
        "id": "view-in-github",
        "colab_type": "text"
      },
      "source": [
        "<a href=\"https://colab.research.google.com/github/pashamjahnavi/python-basics/blob/main/DAY1_assignment.ipynb\" target=\"_parent\"><img src=\"https://colab.research.google.com/assets/colab-badge.svg\" alt=\"Open In Colab\"/></a>"
      ]
    },
    {
      "cell_type": "code",
      "execution_count": 1,
      "metadata": {
        "colab": {
          "base_uri": "https://localhost:8080/"
        },
        "id": "WR4daoKHGdJJ",
        "outputId": "c0b37cd7-4eb0-4f14-bd99-99a1db2bba73"
      },
      "outputs": [
        {
          "output_type": "stream",
          "name": "stdout",
          "text": [
            "Integer Variable: 42, Type: <class 'int'>\n",
            "Float Variable: 3.14, Type: <class 'float'>\n",
            "String Variable: Hello!, Type: <class 'str'>\n",
            "Boolean Variable: True, Type: <class 'bool'>\n"
          ]
        }
      ],
      "source": [
        "# Declare variables of different data types\n",
        "integer_var = 42       # Integer\n",
        "float_var = 3.14       # Float\n",
        "string_var = \"Hello!\"  # String\n",
        "boolean_var = True     # Boolean\n",
        "print(f\"Integer Variable: {integer_var}, Type: {type(integer_var)}\")\n",
        "print(f\"Float Variable: {float_var}, Type: {type(float_var)}\")\n",
        "print(f\"String Variable: {string_var}, Type: {type(string_var)}\")\n",
        "print(f\"Boolean Variable: {boolean_var}, Type: {type(boolean_var)}\")"
      ]
    }
  ]
}