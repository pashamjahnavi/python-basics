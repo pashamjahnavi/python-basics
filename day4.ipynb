{
 "cells": [
  {
   "cell_type": "code",
   "execution_count": 7,
   "id": "ef189a01-8157-43d2-abe0-b456a70d3c78",
   "metadata": {},
   "outputs": [
    {
     "name": "stdout",
     "output_type": "stream",
     "text": [
      "Requirement already satisfied: pip in c:\\users\\pasha\\appdata\\local\\programs\\python\\python312\\lib\\site-packages (24.3.1)\n",
      "Note: you may need to restart the kernel to use updated packages.\n"
     ]
    }
   ],
   "source": [
    "pip install --upgrade pip"
   ]
  },
  {
   "cell_type": "code",
   "execution_count": 1,
   "id": "bab14166-4b68-4db3-8d54-0e3648eca296",
   "metadata": {},
   "outputs": [
    {
     "name": "stdout",
     "output_type": "stream",
     "text": [
      "Collecting SpeechRecognition\n",
      "  Using cached SpeechRecognition-3.13.0-py3-none-any.whl.metadata (30 kB)\n",
      "Collecting pyttsx3\n",
      "  Downloading pyttsx3-2.98-py3-none-any.whl.metadata (3.8 kB)\n",
      "Collecting pyaudio\n",
      "  Downloading PyAudio-0.2.14-cp312-cp312-win_amd64.whl.metadata (2.7 kB)\n",
      "Requirement already satisfied: typing-extensions in c:\\users\\pasha\\appdata\\local\\programs\\python\\python312\\lib\\site-packages (from SpeechRecognition) (4.12.2)\n",
      "Collecting comtypes (from pyttsx3)\n",
      "  Downloading comtypes-1.4.9-py3-none-any.whl.metadata (7.1 kB)\n",
      "Collecting pypiwin32 (from pyttsx3)\n",
      "  Downloading pypiwin32-223-py3-none-any.whl.metadata (236 bytes)\n",
      "Requirement already satisfied: pywin32 in c:\\users\\pasha\\appdata\\local\\programs\\python\\python312\\lib\\site-packages (from pyttsx3) (306)\n",
      "Downloading SpeechRecognition-3.13.0-py3-none-any.whl (32.8 MB)\n",
      "   ---------------------------------------- 0.0/32.8 MB ? eta -:--:--\n",
      "   - -------------------------------------- 1.0/32.8 MB 6.3 MB/s eta 0:00:06\n",
      "   -- ------------------------------------- 2.1/32.8 MB 5.1 MB/s eta 0:00:07\n",
      "   --- ------------------------------------ 2.6/32.8 MB 4.6 MB/s eta 0:00:07\n",
      "   --- ------------------------------------ 3.1/32.8 MB 4.3 MB/s eta 0:00:07\n",
      "   ---- ----------------------------------- 3.9/32.8 MB 3.6 MB/s eta 0:00:09\n",
      "   ------ --------------------------------- 5.0/32.8 MB 3.8 MB/s eta 0:00:08\n",
      "   ------ --------------------------------- 5.5/32.8 MB 3.8 MB/s eta 0:00:08\n",
      "   ------ --------------------------------- 5.5/32.8 MB 3.8 MB/s eta 0:00:08\n",
      "   ------- -------------------------------- 5.8/32.8 MB 3.1 MB/s eta 0:00:09\n",
      "   -------- ------------------------------- 6.8/32.8 MB 3.2 MB/s eta 0:00:09\n",
      "   -------- ------------------------------- 7.3/32.8 MB 3.2 MB/s eta 0:00:08\n",
      "   --------- ------------------------------ 8.1/32.8 MB 3.2 MB/s eta 0:00:08\n",
      "   ----------- ---------------------------- 9.4/32.8 MB 3.4 MB/s eta 0:00:07\n",
      "   ------------ --------------------------- 10.2/32.8 MB 3.4 MB/s eta 0:00:07\n",
      "   ------------- -------------------------- 11.0/32.8 MB 3.4 MB/s eta 0:00:07\n",
      "   -------------- ------------------------- 11.5/32.8 MB 3.4 MB/s eta 0:00:07\n",
      "   --------------- ------------------------ 12.3/32.8 MB 3.4 MB/s eta 0:00:07\n",
      "   --------------- ------------------------ 12.8/32.8 MB 3.4 MB/s eta 0:00:06\n",
      "   ---------------- ----------------------- 13.9/32.8 MB 3.4 MB/s eta 0:00:06\n",
      "   ----------------- ---------------------- 14.2/32.8 MB 3.3 MB/s eta 0:00:06\n",
      "   ------------------ --------------------- 14.9/32.8 MB 3.3 MB/s eta 0:00:06\n",
      "   ------------------- -------------------- 15.7/32.8 MB 3.3 MB/s eta 0:00:06\n",
      "   -------------------- ------------------- 16.5/32.8 MB 3.3 MB/s eta 0:00:05\n",
      "   --------------------- ------------------ 17.3/32.8 MB 3.4 MB/s eta 0:00:05\n",
      "   ---------------------- ----------------- 18.4/32.8 MB 3.4 MB/s eta 0:00:05\n",
      "   ----------------------- ---------------- 19.1/32.8 MB 3.4 MB/s eta 0:00:04\n",
      "   ------------------------ --------------- 19.9/32.8 MB 3.5 MB/s eta 0:00:04\n",
      "   ------------------------- -------------- 21.0/32.8 MB 3.5 MB/s eta 0:00:04\n",
      "   -------------------------- ------------- 21.8/32.8 MB 3.5 MB/s eta 0:00:04\n",
      "   --------------------------- ------------ 22.5/32.8 MB 3.5 MB/s eta 0:00:03\n",
      "   ---------------------------- ----------- 23.3/32.8 MB 3.5 MB/s eta 0:00:03\n",
      "   ----------------------------- ---------- 23.9/32.8 MB 3.5 MB/s eta 0:00:03\n",
      "   ----------------------------- ---------- 24.1/32.8 MB 3.5 MB/s eta 0:00:03\n",
      "   ------------------------------ --------- 25.2/32.8 MB 3.5 MB/s eta 0:00:03\n",
      "   ------------------------------- -------- 25.7/32.8 MB 3.4 MB/s eta 0:00:03\n",
      "   ------------------------------- -------- 26.2/32.8 MB 3.4 MB/s eta 0:00:02\n",
      "   --------------------------------- ------ 27.3/32.8 MB 3.4 MB/s eta 0:00:02\n",
      "   --------------------------------- ------ 27.8/32.8 MB 3.4 MB/s eta 0:00:02\n",
      "   ---------------------------------- ----- 28.6/32.8 MB 3.4 MB/s eta 0:00:02\n",
      "   ----------------------------------- ---- 29.1/32.8 MB 3.4 MB/s eta 0:00:02\n",
      "   ------------------------------------ --- 29.9/32.8 MB 3.4 MB/s eta 0:00:01\n",
      "   ------------------------------------- -- 30.7/32.8 MB 3.4 MB/s eta 0:00:01\n",
      "   ------------------------------------- -- 30.7/32.8 MB 3.4 MB/s eta 0:00:01\n",
      "   ------------------------------------- -- 30.7/32.8 MB 3.4 MB/s eta 0:00:01\n",
      "   ------------------------------------- -- 30.7/32.8 MB 3.4 MB/s eta 0:00:01\n",
      "   ------------------------------------- -- 31.2/32.8 MB 3.2 MB/s eta 0:00:01\n",
      "   -------------------------------------- - 31.5/32.8 MB 3.1 MB/s eta 0:00:01\n",
      "   -------------------------------------- - 31.7/32.8 MB 3.1 MB/s eta 0:00:01\n",
      "   ---------------------------------------  32.2/32.8 MB 3.1 MB/s eta 0:00:01\n",
      "   ---------------------------------------  32.8/32.8 MB 3.1 MB/s eta 0:00:01\n",
      "   ---------------------------------------- 32.8/32.8 MB 3.0 MB/s eta 0:00:00\n",
      "Downloading pyttsx3-2.98-py3-none-any.whl (34 kB)\n",
      "Downloading PyAudio-0.2.14-cp312-cp312-win_amd64.whl (164 kB)\n",
      "Downloading comtypes-1.4.9-py3-none-any.whl (234 kB)\n",
      "Downloading pypiwin32-223-py3-none-any.whl (1.7 kB)\n",
      "Installing collected packages: pyaudio, SpeechRecognition, pypiwin32, comtypes, pyttsx3\n",
      "Successfully installed SpeechRecognition-3.13.0 comtypes-1.4.9 pyaudio-0.2.14 pypiwin32-223 pyttsx3-2.98\n",
      "Note: you may need to restart the kernel to use updated packages.\n"
     ]
    }
   ],
   "source": [
    "pip install SpeechRecognition pyttsx3 pyaudio\n"
   ]
  },
  {
   "cell_type": "code",
   "execution_count": 1,
   "id": "7d336208-81e9-4cf9-a57c-382ed8f4630b",
   "metadata": {},
   "outputs": [
    {
     "ename": "NameError",
     "evalue": "name '_name_' is not defined",
     "output_type": "error",
     "traceback": [
      "\u001b[1;31m---------------------------------------------------------------------------\u001b[0m",
      "\u001b[1;31mNameError\u001b[0m                                 Traceback (most recent call last)",
      "Cell \u001b[1;32mIn[1], line 31\u001b[0m\n\u001b[0;32m     28\u001b[0m     \u001b[38;5;28;01melse\u001b[39;00m:\n\u001b[0;32m     29\u001b[0m       speak(\u001b[38;5;124m\"\u001b[39m\u001b[38;5;124mI\u001b[39m\u001b[38;5;124m'\u001b[39m\u001b[38;5;124mm sorry, I didn\u001b[39m\u001b[38;5;124m'\u001b[39m\u001b[38;5;124mt understand that. Please try again.\u001b[39m\u001b[38;5;124m\"\u001b[39m)\n\u001b[1;32m---> 31\u001b[0m \u001b[38;5;28;01mif\u001b[39;00m \u001b[43m_name_\u001b[49m \u001b[38;5;241m==\u001b[39m \u001b[38;5;124m\"\u001b[39m\u001b[38;5;124m_main_\u001b[39m\u001b[38;5;124m\"\u001b[39m:\n\u001b[0;32m     32\u001b[0m   main()\n",
      "\u001b[1;31mNameError\u001b[0m: name '_name_' is not defined"
     ]
    }
   ],
   "source": [
    "import pyttsx3\n",
    "\n",
    "engine = pyttsx3.init()\n",
    "\n",
    "def speak(text):\n",
    "  engine.say(text)\n",
    "  engine.runAndWait()\n",
    "\n",
    "def main():\n",
    "  speak(\"Hello! I am your simple bot from Mallareddy University\")\n",
    "  speak(\"You can say hello,ask my name, or say goodbye.\")\n",
    "\n",
    "  while True:\n",
    "    command = input(\"You: \").lower()\n",
    "\n",
    "    if \"hello\" in command:\n",
    "      speak(\"Hello! How can I assist you today?\")\n",
    "\n",
    "    elif \"name\" in command:\n",
    "      speak(\"I am a simple bot. You can call me MalliBot.\")\n",
    "\n",
    "    elif \"HAHA\" in command:\n",
    "      speak(\"haha\")\n",
    "\n",
    "    elif \"goobye\" in command:\n",
    "      speak(\"Goodbye! Have a great day!\")\n",
    "      break\n",
    "    else:\n",
    "      speak(\"I'm sorry, I didn't understand that. Please try again.\")\n",
    "\n",
    "if _name_ == \"_main_\":\n",
    "  main()"
   ]
  },
  {
   "cell_type": "code",
   "execution_count": null,
   "id": "4e6fb848-2f76-4a63-8314-eab660420efe",
   "metadata": {},
   "outputs": [
    {
     "name": "stdin",
     "output_type": "stream",
     "text": [
      "You:  jahnavi\n",
      "You:  shreyaa\n"
     ]
    }
   ],
   "source": [
    "import pyttsx3\n",
    "\n",
    "# Initialize the text-to-speech engine\n",
    "engine = pyttsx3.init()\n",
    "\n",
    "def speak(text):\n",
    "    \"\"\"Speaks the given text using the pyttsx3 engine.\"\"\"\n",
    "    engine.say(text)\n",
    "    engine.runAndWait()\n",
    "\n",
    "def main():\n",
    "    \"\"\"Main function for the chatbot.\"\"\"\n",
    "    speak(\"Hello! I am your simple bot from Mallareddy University\")\n",
    "    speak(\"You can say hello, ask my name, or say goodbye.\")\n",
    "\n",
    "    while True:\n",
    "        command = input(\"You: \").lower()\n",
    "\n",
    "        if \"hello\" in command:\n",
    "            speak(\"Hello! How can I assist you today?\")\n",
    "\n",
    "        elif \"name\" in command:\n",
    "            speak(\"I am a simple bot. You can call me MalliBot.\")\n",
    "\n",
    "        elif \"haha\" in command:\n",
    "            speak(\"Haha!\")\n",
    "\n",
    "        elif \"goodbye\" in command:\n",
    "            speak(\"Goodbye! Have a great day!\")\n",
    "            break\n",
    "\n",
    "        else:\n",
    "            speak(\"I'm sorry, I didn't understand that. Please try again.\")\n",
    "\n",
    "# Check if the script is being run directly\n",
    "if __name__ == \"__main__\":\n",
    "    main()\n"
   ]
  },
  {
   "cell_type": "code",
   "execution_count": null,
   "id": "c7e5880d-8ffa-49d5-ab4f-e83ca911b225",
   "metadata": {},
   "outputs": [],
   "source": []
  }
 ],
 "metadata": {
  "kernelspec": {
   "display_name": "Python 3 (ipykernel)",
   "language": "python",
   "name": "python3"
  },
  "language_info": {
   "codemirror_mode": {
    "name": "ipython",
    "version": 3
   },
   "file_extension": ".py",
   "mimetype": "text/x-python",
   "name": "python",
   "nbconvert_exporter": "python",
   "pygments_lexer": "ipython3",
   "version": "3.12.4"
  }
 },
 "nbformat": 4,
 "nbformat_minor": 5
}
